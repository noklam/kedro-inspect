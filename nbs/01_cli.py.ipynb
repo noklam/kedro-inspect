{
 "cells": [
  {
   "cell_type": "code",
   "execution_count": null,
   "id": "13c9dc52",
   "metadata": {},
   "outputs": [],
   "source": [
    "\n",
    "#|default_exp cli\n",
    "import typer\n",
    "\n",
    "\n",
    "\n",
    "def main():\n",
    "    typer.echo(\"Hello World\")\n",
    "\n",
    "\n",
    "# if __name__ == \"__main__\":\n",
    "#     typer.run(main)"
   ]
  },
  {
   "cell_type": "code",
   "execution_count": null,
   "id": "a6602feb",
   "metadata": {},
   "outputs": [],
   "source": []
  }
 ],
 "metadata": {
  "kernelspec": {
   "display_name": "python3",
   "language": "python",
   "name": "python3"
  }
 },
 "nbformat": 4,
 "nbformat_minor": 5
}
